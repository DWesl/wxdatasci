{
 "cells": [
  {
   "cell_type": "markdown",
   "metadata": {},
   "source": [
    "# Coding Challenge #1 - Interactive Widgets\n",
    "  \n",
    "The goal of this challenge is to explore interactive widgets in jupyter notebooks, which allows users to change inputs to functions without having to re-run their code. This notebook will cover a couple different meteorology-related applications of interactive widgets. Additional tutorials and documentation can be found here:\n",
    "\n",
    "- https://ipywidgets.readthedocs.io/en/latest/index.html (official documentation)\n",
    "- https://kapernikov.com/ipywidgets-with-matplotlib/\n",
    "- https://towardsdatascience.com/interactive-controls-for-jupyter-notebooks-f5c94829aee6"
   ]
  },
  {
   "cell_type": "markdown",
   "metadata": {},
   "source": [
    "We will start by importing the necessary Python library: ``ipywidgets``. This line adds the interactive widgets to the basic Python functionality. We will import ipywidgets using the alias ``widgets``."
   ]
  },
  {
   "cell_type": "code",
   "execution_count": 1,
   "metadata": {},
   "outputs": [],
   "source": [
    "import ipywidgets as widgets"
   ]
  },
  {
   "cell_type": "markdown",
   "metadata": {},
   "source": [
    "## Example 1: Temperature Conversion\n",
    "\n",
    "Let's start with a simple example: Converting a temperature from Fahrenheit to Celsius. We can write a function to perform this conversion and print the output to the screen."
   ]
  },
  {
   "cell_type": "code",
   "execution_count": 2,
   "metadata": {},
   "outputs": [
    {
     "name": "stdout",
     "output_type": "stream",
     "text": [
      "20.00 degC\n"
     ]
    }
   ],
   "source": [
    "def FtoC(temp_f):\n",
    "    \n",
    "    # Perform the conversion\n",
    "    temp_c = (temp_f - 32) * (5./9.)\n",
    "    \n",
    "    # Print the result\n",
    "    # In this case, we use the string formatting placeholder %.2f, which means that this placeholder is replaced by\n",
    "    # a float (i.e., real number) with two decimal points when the string (i.e., text) is printed to the screen\n",
    "    print('%.2f degC' % temp_c)\n",
    "    \n",
    "# Test function using 68 degF, which is equivalent to 20 degC\n",
    "FtoC(68.)"
   ]
  },
  {
   "cell_type": "markdown",
   "metadata": {},
   "source": [
    "One downside to the way the code is written above is that we need to re-run the cell each time we want to convert a different temperature from Fahrenheit to Celsius. One way to make this easier is to use interactive widgets. Using interactive widgets, we can create a slider for the input temperature (in Fahrenheit), and as we adjust the slider, Python will convert the new temperature to Celsius. "
   ]
  },
  {
   "cell_type": "code",
   "execution_count": 3,
   "metadata": {},
   "outputs": [
    {
     "data": {
      "application/vnd.jupyter.widget-view+json": {
       "model_id": "d4550e0cf87b4391a7a7adcdb67c6030",
       "version_major": 2,
       "version_minor": 0
      },
      "text/plain": [
       "interactive(children=(FloatSlider(value=68.0, description='T (degF)', max=110.0, step=0.5), Output()), _dom_cl…"
      ]
     },
     "metadata": {},
     "output_type": "display_data"
    },
    {
     "data": {
      "text/plain": [
       "<function __main__.FtoC(temp_f)>"
      ]
     },
     "execution_count": 3,
     "metadata": {},
     "output_type": "execute_result"
    }
   ],
   "source": [
    "# Create the slider using the ipywidgets library imported earlier\n",
    "# The function arguments with the = signs are keyword arguments, which are optional in Python. \n",
    "# All possible keyword arguments for widgets.FloatSlider are listed in the documentation linked above\n",
    "F_slider = widgets.FloatSlider(min=0, max=110, step=0.5, value=68, description='T (degF)')\n",
    "\n",
    "# Create a user interface (UI) using our function (FtoC), specifying that the temp_f positional argument \n",
    "# in our function is given by F_slider\n",
    "widgets.interact(FtoC, temp_f=F_slider)"
   ]
  },
  {
   "cell_type": "markdown",
   "metadata": {},
   "source": [
    "ipywidgets has many widgets other than sliders (the full list can be found here: https://ipywidgets.readthedocs.io/en/latest/examples/Widget%20List.html). Let's make another UI, but this time have the input widget be a textbox instead of a slider."
   ]
  },
  {
   "cell_type": "code",
   "execution_count": 4,
   "metadata": {},
   "outputs": [
    {
     "data": {
      "application/vnd.jupyter.widget-view+json": {
       "model_id": "7a1256ebe87140b19a3a2a2a145313b3",
       "version_major": 2,
       "version_minor": 0
      },
      "text/plain": [
       "interactive(children=(FloatText(value=68.0, description='T (degF)'), Button(description='Run Interact', style=…"
      ]
     },
     "metadata": {},
     "output_type": "display_data"
    },
    {
     "data": {
      "text/plain": [
       "<function __main__.FtoC(temp_f)>"
      ]
     },
     "execution_count": 4,
     "metadata": {},
     "output_type": "execute_result"
    }
   ],
   "source": [
    "F_text = widgets.FloatText(description='T (degF)', value='68.')\n",
    "\n",
    "# interact_manual creates a button that the user pushes when they are ready to convert the temperature\n",
    "widgets.interact_manual(FtoC, temp_f=F_text)"
   ]
  },
  {
   "cell_type": "markdown",
   "metadata": {},
   "source": [
    "## Example 2: Interactive Plotting (Rankine Vortex)\n",
    "\n",
    "Interactive widgets can work with any user-defined function, including those that create graphs! This functionality can be used to allow users to change inputs for a piece of code that makes a plot without having to re-run the code, which helps users explore datasets more efficiently.  \n",
    "  \n",
    "In this example, we will plot a Rankine vortex tangential wind profile, which can be used as an idealization of a tornadic wind field."
   ]
  },
  {
   "cell_type": "markdown",
   "metadata": {},
   "source": [
    "Before we go any further, we need to import ``matplotlib.pyplot`` so we can create plots and ``numpy`` so we can use arrays."
   ]
  },
  {
   "cell_type": "code",
   "execution_count": 5,
   "metadata": {},
   "outputs": [],
   "source": [
    "import numpy as np\n",
    "import matplotlib.pyplot as plt"
   ]
  },
  {
   "cell_type": "markdown",
   "metadata": {},
   "source": [
    "Next, we will create a function that plots a Rankine vortex wind profile. A Rankine vortex wind profile is defined by two parameters: the maximum tangential wind speed ($v_{max}$) and the radius of maximum winds ($r_{max}$). The equation for the the Rankine vortex wind field is $v = v_{max}r/r_{max}$ for $r \\leq r_{max}$ and $v = v_{max}r_{max}/r$ for $r > r_{max}$. "
   ]
  },
  {
   "cell_type": "code",
   "execution_count": 6,
   "metadata": {},
   "outputs": [],
   "source": [
    "def rankine(vmax, rmax, grid=True):\n",
    "    \n",
    "    # Create a figure with a single axes\n",
    "    fig, ax = plt.subplots(nrows=1, ncols=1, figsize=(8, 8))\n",
    "    \n",
    "    # Compute Rankine vortex wind profile\n",
    "    r = np.linspace(0, 2000, 1000)\n",
    "    v = np.zeros(r.shape)\n",
    "    v[r <= rmax] = vmax * r[r <= rmax] / rmax\n",
    "    v[r > rmax] = vmax * rmax / r[r > rmax]\n",
    "    \n",
    "    # Plot Rankine vortex and configure the plot\n",
    "    ax.plot(r, v, 'b-', lw=3)\n",
    "    ax.set_title('Rankine Vortex Wind Profile', size=20)\n",
    "    ax.set_xlabel('radius (m)', size=14)\n",
    "    ax.set_ylabel('tangential wind (m s$^{-1}$)', size=14)\n",
    "    ax.set_xlim(0, 2000)\n",
    "    ax.set_ylim(0, 200)\n",
    "    if grid:\n",
    "        ax.grid()"
   ]
  },
  {
   "cell_type": "markdown",
   "metadata": {},
   "source": [
    "Now that the function is created, we can use widgets to create an interactive plot. We will use sliders for each of the two parameters of the Rankine vortex. We will also include a checkbox that can turn the underlying grid on and off."
   ]
  },
  {
   "cell_type": "code",
   "execution_count": 7,
   "metadata": {},
   "outputs": [
    {
     "data": {
      "application/vnd.jupyter.widget-view+json": {
       "model_id": "8586fd573bad426dab13f8a22faea6da",
       "version_major": 2,
       "version_minor": 0
      },
      "text/plain": [
       "interactive(children=(FloatSlider(value=40.0, description='vmax', max=200.0, step=5.0), FloatSlider(value=100.…"
      ]
     },
     "metadata": {},
     "output_type": "display_data"
    },
    {
     "data": {
      "text/plain": [
       "<function __main__.rankine(vmax, rmax, grid=True)>"
      ]
     },
     "execution_count": 7,
     "metadata": {},
     "output_type": "execute_result"
    }
   ],
   "source": [
    "vmax_slider = widgets.FloatSlider(value=40, min=0, max=200, step=5)\n",
    "rmax_slider = widgets.FloatSlider(value=100, min=1, max=1500, step=10)\n",
    "grid_check = widgets.Checkbox(value=True, description='Grid')\n",
    "\n",
    "widgets.interact(rankine, vmax=vmax_slider, rmax=rmax_slider, grid=grid_check)"
   ]
  },
  {
   "cell_type": "markdown",
   "metadata": {},
   "source": [
    "## The Challenge\n",
    "\n",
    "The coding challenge is to use interactive widgets in a piece of Python code. The piece of Python code can perform any task, such as unit conversions, switching between different moisture measurements, plotting weather maps where you can toggle which fields are displayed, etc. Feel free to get creative in how you use the interactive widgets!"
   ]
  }
 ],
 "metadata": {
  "kernelspec": {
   "display_name": "Python 3",
   "language": "python",
   "name": "python3"
  },
  "language_info": {
   "codemirror_mode": {
    "name": "ipython",
    "version": 3
   },
   "file_extension": ".py",
   "mimetype": "text/x-python",
   "name": "python",
   "nbconvert_exporter": "python",
   "pygments_lexer": "ipython3",
   "version": "3.7.9"
  }
 },
 "nbformat": 4,
 "nbformat_minor": 4
}
