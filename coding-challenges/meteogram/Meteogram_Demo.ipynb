{
 "cells": [
  {
   "cell_type": "markdown",
   "metadata": {},
   "source": [
    "# Coding Challenge #1 - Meteogram Plot\n",
    "In this exercise, you'll gain familiarity with some Python basics by producing a meteogram. We will plot 5-minute weather observations from KPHL on a day where multiple rounds of severe thunderstorms impacted southeast PA.  \n",
    "This tutorial uses three powerful python modules that are commonly used when working with weather data: matplotlib, and pandas. The documentation can be helpful, in addition to google searches.  \n",
    "https://pandas.pydata.org/docs/  \n",
    "https://matplotlib.org/stable/contents.html  "
   ]
  },
  {
   "cell_type": "markdown",
   "metadata": {},
   "source": [
    "First, import the python librairies necessary. Think of these as \"add-ons\" to Python's basic functionality. The imported library names (pd, plt) are now python objects."
   ]
  },
  {
   "cell_type": "code",
   "execution_count": 1,
   "metadata": {},
   "outputs": [],
   "source": [
    "import pandas as pd\n",
    "import matplotlib.pyplot as plt"
   ]
  },
  {
   "cell_type": "markdown",
   "metadata": {},
   "source": [
    "First, we'll read data from the csv file. You can open the csv in JupyterHub with right click->open with->CSVTable to look at the data first.  \n",
    "Using the pandas read_csv function, we can easily read data from the csv into a pandas dataframe (we will call it df). https://pandas.pydata.org/docs/reference/api/pandas.read_csv.html"
   ]
  },
  {
   "cell_type": "code",
   "execution_count": 2,
   "metadata": {},
   "outputs": [
    {
     "data": {
      "text/html": [
       "<div>\n",
       "<style scoped>\n",
       "    .dataframe tbody tr th:only-of-type {\n",
       "        vertical-align: middle;\n",
       "    }\n",
       "\n",
       "    .dataframe tbody tr th {\n",
       "        vertical-align: top;\n",
       "    }\n",
       "\n",
       "    .dataframe thead th {\n",
       "        text-align: right;\n",
       "    }\n",
       "</style>\n",
       "<table border=\"1\" class=\"dataframe\">\n",
       "  <thead>\n",
       "    <tr style=\"text-align: right;\">\n",
       "      <th></th>\n",
       "      <th>time</th>\n",
       "      <th>temp_f</th>\n",
       "      <th>dew_f</th>\n",
       "      <th>wind_speed_kt</th>\n",
       "      <th>wind_gust_kt</th>\n",
       "      <th>wind_dir_deg</th>\n",
       "      <th>slp_mb</th>\n",
       "      <th>cloud_total_pct</th>\n",
       "      <th>precip_1hr_in</th>\n",
       "    </tr>\n",
       "  </thead>\n",
       "  <tbody>\n",
       "    <tr>\n",
       "      <th>0</th>\n",
       "      <td>2020-06-03 00:00:00</td>\n",
       "      <td>71.60</td>\n",
       "      <td>46.40</td>\n",
       "      <td>5.0</td>\n",
       "      <td>NaN</td>\n",
       "      <td>230.0</td>\n",
       "      <td>NaN</td>\n",
       "      <td>100.0</td>\n",
       "      <td>NaN</td>\n",
       "    </tr>\n",
       "    <tr>\n",
       "      <th>1</th>\n",
       "      <td>2020-06-03 00:05:00</td>\n",
       "      <td>71.60</td>\n",
       "      <td>46.40</td>\n",
       "      <td>7.0</td>\n",
       "      <td>NaN</td>\n",
       "      <td>230.0</td>\n",
       "      <td>NaN</td>\n",
       "      <td>100.0</td>\n",
       "      <td>NaN</td>\n",
       "    </tr>\n",
       "    <tr>\n",
       "      <th>2</th>\n",
       "      <td>2020-06-03 00:10:00</td>\n",
       "      <td>69.80</td>\n",
       "      <td>46.40</td>\n",
       "      <td>8.0</td>\n",
       "      <td>NaN</td>\n",
       "      <td>230.0</td>\n",
       "      <td>NaN</td>\n",
       "      <td>100.0</td>\n",
       "      <td>NaN</td>\n",
       "    </tr>\n",
       "    <tr>\n",
       "      <th>3</th>\n",
       "      <td>2020-06-03 00:15:00</td>\n",
       "      <td>71.60</td>\n",
       "      <td>46.40</td>\n",
       "      <td>7.0</td>\n",
       "      <td>NaN</td>\n",
       "      <td>230.0</td>\n",
       "      <td>NaN</td>\n",
       "      <td>100.0</td>\n",
       "      <td>NaN</td>\n",
       "    </tr>\n",
       "    <tr>\n",
       "      <th>4</th>\n",
       "      <td>2020-06-03 00:20:00</td>\n",
       "      <td>69.80</td>\n",
       "      <td>46.40</td>\n",
       "      <td>8.0</td>\n",
       "      <td>NaN</td>\n",
       "      <td>230.0</td>\n",
       "      <td>NaN</td>\n",
       "      <td>100.0</td>\n",
       "      <td>NaN</td>\n",
       "    </tr>\n",
       "    <tr>\n",
       "      <th>...</th>\n",
       "      <td>...</td>\n",
       "      <td>...</td>\n",
       "      <td>...</td>\n",
       "      <td>...</td>\n",
       "      <td>...</td>\n",
       "      <td>...</td>\n",
       "      <td>...</td>\n",
       "      <td>...</td>\n",
       "      <td>...</td>\n",
       "    </tr>\n",
       "    <tr>\n",
       "      <th>316</th>\n",
       "      <td>2020-06-03 23:45:00</td>\n",
       "      <td>64.94</td>\n",
       "      <td>64.04</td>\n",
       "      <td>11.0</td>\n",
       "      <td>35.0</td>\n",
       "      <td>360.0</td>\n",
       "      <td>NaN</td>\n",
       "      <td>100.0</td>\n",
       "      <td>0.45</td>\n",
       "    </tr>\n",
       "    <tr>\n",
       "      <th>317</th>\n",
       "      <td>2020-06-03 23:50:00</td>\n",
       "      <td>66.20</td>\n",
       "      <td>64.40</td>\n",
       "      <td>11.0</td>\n",
       "      <td>NaN</td>\n",
       "      <td>340.0</td>\n",
       "      <td>NaN</td>\n",
       "      <td>75.0</td>\n",
       "      <td>NaN</td>\n",
       "    </tr>\n",
       "    <tr>\n",
       "      <th>318</th>\n",
       "      <td>2020-06-03 23:54:00</td>\n",
       "      <td>68.00</td>\n",
       "      <td>64.94</td>\n",
       "      <td>11.0</td>\n",
       "      <td>NaN</td>\n",
       "      <td>360.0</td>\n",
       "      <td>1005.0</td>\n",
       "      <td>100.0</td>\n",
       "      <td>0.51</td>\n",
       "    </tr>\n",
       "    <tr>\n",
       "      <th>319</th>\n",
       "      <td>2020-06-03 23:55:00</td>\n",
       "      <td>66.20</td>\n",
       "      <td>64.40</td>\n",
       "      <td>11.0</td>\n",
       "      <td>NaN</td>\n",
       "      <td>360.0</td>\n",
       "      <td>NaN</td>\n",
       "      <td>100.0</td>\n",
       "      <td>NaN</td>\n",
       "    </tr>\n",
       "    <tr>\n",
       "      <th>320</th>\n",
       "      <td>2020-06-04 00:00:00</td>\n",
       "      <td>68.00</td>\n",
       "      <td>64.40</td>\n",
       "      <td>4.0</td>\n",
       "      <td>NaN</td>\n",
       "      <td>340.0</td>\n",
       "      <td>NaN</td>\n",
       "      <td>100.0</td>\n",
       "      <td>NaN</td>\n",
       "    </tr>\n",
       "  </tbody>\n",
       "</table>\n",
       "<p>321 rows × 9 columns</p>\n",
       "</div>"
      ],
      "text/plain": [
       "                    time  temp_f  dew_f  wind_speed_kt  wind_gust_kt  \\\n",
       "0    2020-06-03 00:00:00   71.60  46.40            5.0           NaN   \n",
       "1    2020-06-03 00:05:00   71.60  46.40            7.0           NaN   \n",
       "2    2020-06-03 00:10:00   69.80  46.40            8.0           NaN   \n",
       "3    2020-06-03 00:15:00   71.60  46.40            7.0           NaN   \n",
       "4    2020-06-03 00:20:00   69.80  46.40            8.0           NaN   \n",
       "..                   ...     ...    ...            ...           ...   \n",
       "316  2020-06-03 23:45:00   64.94  64.04           11.0          35.0   \n",
       "317  2020-06-03 23:50:00   66.20  64.40           11.0           NaN   \n",
       "318  2020-06-03 23:54:00   68.00  64.94           11.0           NaN   \n",
       "319  2020-06-03 23:55:00   66.20  64.40           11.0           NaN   \n",
       "320  2020-06-04 00:00:00   68.00  64.40            4.0           NaN   \n",
       "\n",
       "     wind_dir_deg  slp_mb  cloud_total_pct  precip_1hr_in  \n",
       "0           230.0     NaN            100.0            NaN  \n",
       "1           230.0     NaN            100.0            NaN  \n",
       "2           230.0     NaN            100.0            NaN  \n",
       "3           230.0     NaN            100.0            NaN  \n",
       "4           230.0     NaN            100.0            NaN  \n",
       "..            ...     ...              ...            ...  \n",
       "316         360.0     NaN            100.0           0.45  \n",
       "317         340.0     NaN             75.0            NaN  \n",
       "318         360.0  1005.0            100.0           0.51  \n",
       "319         360.0     NaN            100.0            NaN  \n",
       "320         340.0     NaN            100.0            NaN  \n",
       "\n",
       "[321 rows x 9 columns]"
      ]
     },
     "execution_count": 2,
     "metadata": {},
     "output_type": "execute_result"
    }
   ],
   "source": [
    "# Here's what it looks like\n",
    "pd.read_csv('./data/KPHL.csv') # specify the file path as a \"relative\" path"
   ]
  },
  {
   "cell_type": "markdown",
   "metadata": {},
   "source": [
    "Checking this against the csv file, it looks like our data has been read correctly!  \n",
    "You'll notice that the index column (bold) is numbered according to the row numbers in the csv. This is fine, but with timeseries data, it sometimes makes sense to make the time column our index column. Additionally, we need to make sure our timestamps are treated as datetime objects, not strings. Here's a couple of more tricks with the dataframe to make our lives a bit easier:"
   ]
  },
  {
   "cell_type": "code",
   "execution_count": 3,
   "metadata": {},
   "outputs": [
    {
     "data": {
      "text/html": [
       "<div>\n",
       "<style scoped>\n",
       "    .dataframe tbody tr th:only-of-type {\n",
       "        vertical-align: middle;\n",
       "    }\n",
       "\n",
       "    .dataframe tbody tr th {\n",
       "        vertical-align: top;\n",
       "    }\n",
       "\n",
       "    .dataframe thead th {\n",
       "        text-align: right;\n",
       "    }\n",
       "</style>\n",
       "<table border=\"1\" class=\"dataframe\">\n",
       "  <thead>\n",
       "    <tr style=\"text-align: right;\">\n",
       "      <th></th>\n",
       "      <th>temp_f</th>\n",
       "      <th>dew_f</th>\n",
       "      <th>wind_speed_kt</th>\n",
       "      <th>wind_gust_kt</th>\n",
       "      <th>wind_dir_deg</th>\n",
       "      <th>slp_mb</th>\n",
       "      <th>cloud_total_pct</th>\n",
       "      <th>precip_1hr_in</th>\n",
       "    </tr>\n",
       "    <tr>\n",
       "      <th>time</th>\n",
       "      <th></th>\n",
       "      <th></th>\n",
       "      <th></th>\n",
       "      <th></th>\n",
       "      <th></th>\n",
       "      <th></th>\n",
       "      <th></th>\n",
       "      <th></th>\n",
       "    </tr>\n",
       "  </thead>\n",
       "  <tbody>\n",
       "    <tr>\n",
       "      <th>2020-06-03 00:00:00</th>\n",
       "      <td>71.60</td>\n",
       "      <td>46.40</td>\n",
       "      <td>5.0</td>\n",
       "      <td>NaN</td>\n",
       "      <td>230.0</td>\n",
       "      <td>NaN</td>\n",
       "      <td>100.0</td>\n",
       "      <td>NaN</td>\n",
       "    </tr>\n",
       "    <tr>\n",
       "      <th>2020-06-03 00:05:00</th>\n",
       "      <td>71.60</td>\n",
       "      <td>46.40</td>\n",
       "      <td>7.0</td>\n",
       "      <td>NaN</td>\n",
       "      <td>230.0</td>\n",
       "      <td>NaN</td>\n",
       "      <td>100.0</td>\n",
       "      <td>NaN</td>\n",
       "    </tr>\n",
       "    <tr>\n",
       "      <th>2020-06-03 00:10:00</th>\n",
       "      <td>69.80</td>\n",
       "      <td>46.40</td>\n",
       "      <td>8.0</td>\n",
       "      <td>NaN</td>\n",
       "      <td>230.0</td>\n",
       "      <td>NaN</td>\n",
       "      <td>100.0</td>\n",
       "      <td>NaN</td>\n",
       "    </tr>\n",
       "    <tr>\n",
       "      <th>2020-06-03 00:15:00</th>\n",
       "      <td>71.60</td>\n",
       "      <td>46.40</td>\n",
       "      <td>7.0</td>\n",
       "      <td>NaN</td>\n",
       "      <td>230.0</td>\n",
       "      <td>NaN</td>\n",
       "      <td>100.0</td>\n",
       "      <td>NaN</td>\n",
       "    </tr>\n",
       "    <tr>\n",
       "      <th>2020-06-03 00:20:00</th>\n",
       "      <td>69.80</td>\n",
       "      <td>46.40</td>\n",
       "      <td>8.0</td>\n",
       "      <td>NaN</td>\n",
       "      <td>230.0</td>\n",
       "      <td>NaN</td>\n",
       "      <td>100.0</td>\n",
       "      <td>NaN</td>\n",
       "    </tr>\n",
       "    <tr>\n",
       "      <th>...</th>\n",
       "      <td>...</td>\n",
       "      <td>...</td>\n",
       "      <td>...</td>\n",
       "      <td>...</td>\n",
       "      <td>...</td>\n",
       "      <td>...</td>\n",
       "      <td>...</td>\n",
       "      <td>...</td>\n",
       "    </tr>\n",
       "    <tr>\n",
       "      <th>2020-06-03 23:45:00</th>\n",
       "      <td>64.94</td>\n",
       "      <td>64.04</td>\n",
       "      <td>11.0</td>\n",
       "      <td>35.0</td>\n",
       "      <td>360.0</td>\n",
       "      <td>NaN</td>\n",
       "      <td>100.0</td>\n",
       "      <td>0.45</td>\n",
       "    </tr>\n",
       "    <tr>\n",
       "      <th>2020-06-03 23:50:00</th>\n",
       "      <td>66.20</td>\n",
       "      <td>64.40</td>\n",
       "      <td>11.0</td>\n",
       "      <td>NaN</td>\n",
       "      <td>340.0</td>\n",
       "      <td>NaN</td>\n",
       "      <td>75.0</td>\n",
       "      <td>NaN</td>\n",
       "    </tr>\n",
       "    <tr>\n",
       "      <th>2020-06-03 23:54:00</th>\n",
       "      <td>68.00</td>\n",
       "      <td>64.94</td>\n",
       "      <td>11.0</td>\n",
       "      <td>NaN</td>\n",
       "      <td>360.0</td>\n",
       "      <td>1005.0</td>\n",
       "      <td>100.0</td>\n",
       "      <td>0.51</td>\n",
       "    </tr>\n",
       "    <tr>\n",
       "      <th>2020-06-03 23:55:00</th>\n",
       "      <td>66.20</td>\n",
       "      <td>64.40</td>\n",
       "      <td>11.0</td>\n",
       "      <td>NaN</td>\n",
       "      <td>360.0</td>\n",
       "      <td>NaN</td>\n",
       "      <td>100.0</td>\n",
       "      <td>NaN</td>\n",
       "    </tr>\n",
       "    <tr>\n",
       "      <th>2020-06-04 00:00:00</th>\n",
       "      <td>68.00</td>\n",
       "      <td>64.40</td>\n",
       "      <td>4.0</td>\n",
       "      <td>NaN</td>\n",
       "      <td>340.0</td>\n",
       "      <td>NaN</td>\n",
       "      <td>100.0</td>\n",
       "      <td>NaN</td>\n",
       "    </tr>\n",
       "  </tbody>\n",
       "</table>\n",
       "<p>321 rows × 8 columns</p>\n",
       "</div>"
      ],
      "text/plain": [
       "                     temp_f  dew_f  wind_speed_kt  wind_gust_kt  wind_dir_deg  \\\n",
       "time                                                                            \n",
       "2020-06-03 00:00:00   71.60  46.40            5.0           NaN         230.0   \n",
       "2020-06-03 00:05:00   71.60  46.40            7.0           NaN         230.0   \n",
       "2020-06-03 00:10:00   69.80  46.40            8.0           NaN         230.0   \n",
       "2020-06-03 00:15:00   71.60  46.40            7.0           NaN         230.0   \n",
       "2020-06-03 00:20:00   69.80  46.40            8.0           NaN         230.0   \n",
       "...                     ...    ...            ...           ...           ...   \n",
       "2020-06-03 23:45:00   64.94  64.04           11.0          35.0         360.0   \n",
       "2020-06-03 23:50:00   66.20  64.40           11.0           NaN         340.0   \n",
       "2020-06-03 23:54:00   68.00  64.94           11.0           NaN         360.0   \n",
       "2020-06-03 23:55:00   66.20  64.40           11.0           NaN         360.0   \n",
       "2020-06-04 00:00:00   68.00  64.40            4.0           NaN         340.0   \n",
       "\n",
       "                     slp_mb  cloud_total_pct  precip_1hr_in  \n",
       "time                                                         \n",
       "2020-06-03 00:00:00     NaN            100.0            NaN  \n",
       "2020-06-03 00:05:00     NaN            100.0            NaN  \n",
       "2020-06-03 00:10:00     NaN            100.0            NaN  \n",
       "2020-06-03 00:15:00     NaN            100.0            NaN  \n",
       "2020-06-03 00:20:00     NaN            100.0            NaN  \n",
       "...                     ...              ...            ...  \n",
       "2020-06-03 23:45:00     NaN            100.0           0.45  \n",
       "2020-06-03 23:50:00     NaN             75.0            NaN  \n",
       "2020-06-03 23:54:00  1005.0            100.0           0.51  \n",
       "2020-06-03 23:55:00     NaN            100.0            NaN  \n",
       "2020-06-04 00:00:00     NaN            100.0            NaN  \n",
       "\n",
       "[321 rows x 8 columns]"
      ]
     },
     "execution_count": 3,
     "metadata": {},
     "output_type": "execute_result"
    }
   ],
   "source": [
    "df = pd.read_csv('./data/KPHL.csv', parse_dates=['time']) # pass an argument to tell pandas to treat the time column as datetime\n",
    "df = df.set_index('time') # for timeseries, it's often useful to set the timestamp as the \"index\" column in pandas\n",
    "df"
   ]
  },
  {
   "cell_type": "markdown",
   "metadata": {},
   "source": [
    "We'll need to extract some data to be able to make plots. Here's a few examples of indexing and selecting data from our pandas dataframe:"
   ]
  },
  {
   "cell_type": "code",
   "execution_count": 4,
   "metadata": {},
   "outputs": [
    {
     "data": {
      "text/plain": [
       "time\n",
       "2020-06-03 00:00:00    71.60\n",
       "2020-06-03 00:05:00    71.60\n",
       "2020-06-03 00:10:00    69.80\n",
       "2020-06-03 00:15:00    71.60\n",
       "2020-06-03 00:20:00    69.80\n",
       "                       ...  \n",
       "2020-06-03 23:45:00    64.94\n",
       "2020-06-03 23:50:00    66.20\n",
       "2020-06-03 23:54:00    68.00\n",
       "2020-06-03 23:55:00    66.20\n",
       "2020-06-04 00:00:00    68.00\n",
       "Name: temp_f, Length: 321, dtype: float64"
      ]
     },
     "execution_count": 4,
     "metadata": {},
     "output_type": "execute_result"
    }
   ],
   "source": [
    "# The temperature timeseries - this is a pandas dataarray\n",
    "df['temp_f'] # using the column name (key) to select the data we want"
   ]
  },
  {
   "cell_type": "code",
   "execution_count": 5,
   "metadata": {
    "tags": []
   },
   "outputs": [
    {
     "data": {
      "text/plain": [
       "array([71.6 , 71.6 , 69.8 , 71.6 , 69.8 , 71.6 , 69.8 , 69.8 , 69.8 ,\n",
       "       69.8 , 69.8 , 69.08, 69.8 , 69.8 , 69.8 , 69.8 , 69.8 , 69.8 ,\n",
       "       69.8 , 69.8 , 69.8 , 69.8 , 69.8 , 69.8 , 69.08, 69.8 , 68.  ,\n",
       "       69.8 , 69.8 , 69.8 , 68.  , 68.  , 68.  , 68.  , 68.  , 69.8 ,\n",
       "       68.  , 68.  , 68.  , 69.8 , 69.8 , 68.  , 68.  , 68.  , 68.  ,\n",
       "       66.2 , 66.2 , 66.2 , 66.2 , 66.2 , 66.02, 66.2 , 66.2 , 66.2 ,\n",
       "       66.2 , 66.2 , 66.2 , 66.2 , 66.2 , 66.2 , 66.2 , 66.2 , 66.2 ,\n",
       "       66.02, 66.2 , 66.2 , 66.2 , 66.2 , 66.2 , 66.2 , 66.2 , 66.2 ,\n",
       "       66.2 , 66.2 , 66.2 , 66.2 , 66.02, 66.2 , 66.2 , 66.2 , 66.2 ,\n",
       "       66.2 , 66.2 , 66.2 , 66.2 , 66.2 , 66.2 , 66.2 , 66.2 , 66.02,\n",
       "       66.2 , 66.2 , 66.2 , 66.2 , 66.2 , 66.2 , 66.2 , 66.2 , 66.2 ,\n",
       "       66.2 , 66.2 , 66.2 , 66.92, 66.2 , 66.2 , 66.2 , 66.2 , 66.2 ,\n",
       "       66.2 , 68.  , 66.2 , 68.  , 68.  , 68.  , 68.  , 68.  , 68.  ,\n",
       "       68.  , 68.  , 68.  , 68.  , 68.  , 68.  , 68.  , 69.8 , 69.8 ,\n",
       "       68.  , 68.  , 68.  , 69.8 , 69.8 , 69.8 , 69.8 , 69.8 , 69.8 ,\n",
       "       69.8 , 69.8 , 69.8 , 69.8 , 69.8 , 69.8 , 71.06, 71.6 , 71.6 ,\n",
       "       71.6 , 71.6 , 71.6 , 71.6 , 71.6 , 71.6 , 71.6 , 71.6 , 71.6 ,\n",
       "       73.4 , 73.04, 73.4 , 73.4 , 73.4 , 73.4 , 73.4 , 73.4 , 73.4 ,\n",
       "       73.4 , 73.4 , 75.2 , 75.2 , 75.2 , 75.92, 75.2 , 75.2 , 75.2 ,\n",
       "       77.  , 77.  , 78.8 , 78.8 , 78.8 , 78.8 , 78.8 , 80.6 , 80.6 ,\n",
       "       80.96, 80.6 , 80.6 , 80.6 , 82.4 , 82.4 , 82.4 , 82.4 , 82.4 ,\n",
       "       84.2 , 82.4 , 84.2 , 84.2 , 84.02, 84.2 , 84.2 , 86.  , 84.2 ,\n",
       "       86.  , 86.  , 87.8 , 87.8 , 87.8 , 87.8 , 87.8 , 87.8 , 87.98,\n",
       "       87.8 , 87.8 , 87.8 , 87.8 , 87.8 , 86.  , 84.2 , 82.94, 78.8 ,\n",
       "       75.92, 69.98, 68.  , 68.  , 68.  , 69.08, 69.8 , 69.08, 69.8 ,\n",
       "       69.8 , 69.8 , 69.08, 69.8 , 69.8 , 69.8 , 69.8 , 69.08, 69.8 ,\n",
       "       69.8 , 69.8 , 71.6 , 71.6 , 71.06, 71.6 , 71.6 , 71.6 , 71.6 ,\n",
       "       73.4 , 73.4 , 75.2 , 75.2 , 75.2 , 75.2 , 77.  , 78.8 , 78.08,\n",
       "       78.8 , 78.8 , 80.6 , 78.8 , 80.6 , 80.6 , 80.6 , 82.4 , 82.4 ,\n",
       "       82.4 , 82.4 , 82.4 , 82.04, 82.4 , 82.4 , 82.4 , 82.4 , 82.4 ,\n",
       "       82.4 , 84.2 , 84.2 , 84.2 , 84.2 , 84.2 , 84.2 , 84.02, 84.2 ,\n",
       "       84.2 , 84.2 , 86.  , 84.2 , 84.2 , 84.2 , 84.2 , 84.2 , 84.2 ,\n",
       "       84.2 , 84.2 , 84.92, 84.2 , 82.4 , 82.4 , 84.2 , 86.  , 84.2 ,\n",
       "       84.2 , 86.  , 86.  , 84.2 , 84.2 , 82.4 , 82.94, 82.4 , 82.4 ,\n",
       "       82.4 , 80.6 , 80.6 , 80.6 , 80.96, 80.6 , 80.96, 71.06, 64.4 ,\n",
       "       64.04, 64.94, 66.2 , 68.  , 66.2 , 68.  ])"
      ]
     },
     "execution_count": 5,
     "metadata": {},
     "output_type": "execute_result"
    }
   ],
   "source": [
    "# Get the raw values as an array using the .values attribute\n",
    "df['temp_f'].values # this is what we want to plot"
   ]
  },
  {
   "cell_type": "code",
   "execution_count": 6,
   "metadata": {
    "tags": []
   },
   "outputs": [
    {
     "data": {
      "text/plain": [
       "array(['2020-06-03T00:00:00.000000000', '2020-06-03T00:05:00.000000000',\n",
       "       '2020-06-03T00:10:00.000000000', '2020-06-03T00:15:00.000000000',\n",
       "       '2020-06-03T00:20:00.000000000', '2020-06-03T00:25:00.000000000',\n",
       "       '2020-06-03T00:30:00.000000000', '2020-06-03T00:35:00.000000000',\n",
       "       '2020-06-03T00:40:00.000000000', '2020-06-03T00:45:00.000000000'],\n",
       "      dtype='datetime64[ns]')"
      ]
     },
     "execution_count": 6,
     "metadata": {},
     "output_type": "execute_result"
    }
   ],
   "source": [
    "# The timestamps - access via the dataframe's index attribute\n",
    "df.index.values[0:10] # only the first 10 values as an example"
   ]
  },
  {
   "cell_type": "markdown",
   "metadata": {},
   "source": [
    "### Plotting\n",
    "\n",
    "We're now ready to plot some data. We'll use Python's matplotlib plotting library to create a highly customizable plot.  \n",
    "\n",
    "First, we'll set up the figure window where the axes will be drawn. The figure size is specified in inches, and I usually like to use a large size to make sure the plot is high-resolution. You can also specify resolution in dpi (dots per inch). https://matplotlib.org/stable/api/_as_gen/matplotlib.pyplot.figure.html  \n",
    "\n",
    "Next, place an axes inside the figure window. Since we want the plot to fill the entire figure window, we'll add a single subplot with ```fig.add_subplot(nrows,ncols,index)```. Since it's a single plot, there will be 1 row, 1 column, and the plot index is 1. This can also be specified as an integer (111). https://matplotlib.org/stable/api/_as_gen/matplotlib.figure.Figure.html#matplotlib.figure.Figure.add_subplot  \n",
    "\n",
    "The next step is to create a simple line plot of temperature using the ```ax.plot()``` function. I'll use a linewidth and color appropriate for temperature. https://matplotlib.org/stable/api/_as_gen/matplotlib.axes.Axes.plot.html"
   ]
  },
  {
   "cell_type": "code",
   "execution_count": 7,
   "metadata": {},
   "outputs": [
    {
     "data": {
      "image/png": "[encoded data removed]",
      "text/plain": [
       "<Figure size 1080x720 with 1 Axes>"
      ]
     },
     "metadata": {
      "needs_background": "light"
     },
     "output_type": "display_data"
    }
   ],
   "source": [
    "# Setting up the matplotlib figure\n",
    "fig = plt.figure(figsize=(15,10)) # this creates a figure object - the figure size is specified in inches\n",
    "ax = fig.add_subplot(1,1,1) # creating a single axes that fills the whole figure window\n",
    "\n",
    "# Plot temperatures\n",
    "ax.plot(df.index.values, df['temp_f'].values, color='red', linewidth=2)\n",
    "\n",
    "# Show the plot (not necessary in JupyterLab, but you must tell Python to show the plot if running a script from the terminal)\n",
    "plt.show()"
   ]
  },
  {
   "cell_type": "markdown",
   "metadata": {},
   "source": [
    "Looks good - let's take this plot to the next level!  \n",
    "\n",
    "Since most of the observations are taken to the nearest degree celsius (only hourlies are not rounded), the lines are not very appealing to look at. I smooth the line by plotting a running mean of temepratures using ```pandas.dataframe.rolling()```. https://pandas.pydata.org/docs/reference/api/pandas.DataFrame.rolling.html  \n",
    "\n",
    "We want to plot several weather variables on the same plot. Since dew point and temperature are most often in the same range, it makes sense to plot them on the same axes.  \n",
    "\n",
    "However, a quantity like wind speed may not be in the same range as temperature and dew point. We'll make a second axes in the same subplot to plot the wind speed."
   ]
  },
  {
   "cell_type": "code",
   "execution_count": 8,
   "metadata": {},
   "outputs": [
    {
     "data": {
      "text/plain": [
       "Text(0,1,'A nicer-looking meteogram')"
      ]
     },
     "execution_count": 8,
     "metadata": {},
     "output_type": "execute_result"
    },
    {
     "data": {
      "image/png": "[encoded data removed]",
      "text/plain": [
       "<Figure size 1080x720 with 2 Axes>"
      ]
     },
     "metadata": {
      "needs_background": "light"
     },
     "output_type": "display_data"
    }
   ],
   "source": [
    "# Setting up the matplotlib figure\n",
    "fig = plt.figure(figsize=(15,10))\n",
    "ax = fig.add_subplot(111)\n",
    "\n",
    "# Plot temperatures\n",
    "smoothed = df['temp_f'].rolling(5, center=True, min_periods=1).mean() # See pandas documentation for more about this\n",
    "# I set size of rolling window based on what looks good without losing too much information\n",
    "p1 = ax.plot(df.index.values, smoothed.values, color='red', linewidth=2, label='Temperature (F)') # get handle for legend\n",
    "\n",
    "# Plot dew point\n",
    "p2 = ax.plot(df.index.values, df['dew_f'].rolling(5, center=True, min_periods=1).mean().values,\n",
    "             color='green', linewidth=2, label='Dew Point (F)')\n",
    "\n",
    "# Add grid lines\n",
    "ax.grid()\n",
    "\n",
    "# Create a second axes and plot wind speed\n",
    "ax2 = ax.twinx() # make a \"twin\" axes within the same subplot; the axis labels will appear on the opposite side\n",
    "ax2.set_ylim(0,100) # fix y range so wind speed line does not interfere with temp and dew point\n",
    "p2 = ax2.plot(df.index.values, df['wind_speed_kt'].rolling(5, center=True, min_periods=1).mean().values,\n",
    "             color='blue', linewidth=2, label='Wind Speed (kt)')\n",
    "# A title\n",
    "plt.title('A nicer-looking meteogram', fontweight='bold', loc='left')"
   ]
  },
  {
   "cell_type": "markdown",
   "metadata": {},
   "source": [
    "This meteogram is starting to look even better, but we haven't added all of the variables yet. As you can imagine, it could get quite cluttered if we plot all of the data in a single subplot. To prevent clutter, it can be useful to use subplots. Here's an example of a simple 2-panel subplot layout you can use."
   ]
  },
  {
   "cell_type": "code",
   "execution_count": 9,
   "metadata": {},
   "outputs": [
    {
     "data": {
      "text/plain": [
       "Text(0.5,1,'2-panel meteogram layout')"
      ]
     },
     "execution_count": 9,
     "metadata": {},
     "output_type": "execute_result"
    },
    {
     "data": {
      "image/png": "[encoded data removed]",
      "text/plain": [
       "<Figure size 1080x720 with 2 Axes>"
      ]
     },
     "metadata": {
      "needs_background": "light"
     },
     "output_type": "display_data"
    }
   ],
   "source": [
    "# Example of a subplot layout\n",
    "\n",
    "fig = plt.figure(figsize=(15,10))\n",
    "ax = fig.add_subplot(211) # add the top subplot (2 rows, 1 column, subplot #1)\n",
    "ax.get_xaxis().set_visible(False) # Since the x-axis will be shared, no need for tick labels on top x axis\n",
    "ax2 = fig.add_subplot(212, sharex=ax) # add the bottom subplot\n",
    "plt.tight_layout() # Remove unnecessary white space between panels\n",
    "ax.set_title('2-panel meteogram layout') # Reference the first axis as this panel needs to be on top"
   ]
  },
  {
   "cell_type": "markdown",
   "metadata": {
    "tags": []
   },
   "source": [
    "## The Challenge\n",
    "Task: Make a meteogram that displays as many of the weather variables from the csv as possible.  \n",
    "\n",
    "The meteogram should have:\n",
    "1. Descriptive plot title(s)\n",
    "2. Axis labels\n",
    "3. Grid lines\n",
    "4. A legend\n",
    "5. Formatted dates on the x-axis (hint: https://stackoverflow.com/questions/14946371/editing-the-date-formatting-of-x-axis-tick-labels-in-matplotlib)\n",
    "6. Proper x and y ranges for the data\n",
    "\n",
    "Optionally, you may want to add:\n",
    "1. Multiple subplots\n",
    "2. Wind barbs and cloud cover using metpy's station plot layout (https://unidata.github.io/MetPy/latest/examples/plots/Station_Plot.html)  \n",
    "Hint: you can fix the location of the station plots with x and y values on the axes  \n",
    "\n",
    "This is an open-ended project, so there is no \"right\" or \"wrong\" answer for what your meteogram should look like. Be creative, and check out the example meteogram (meteogram_example.png) if you need inspiration - or look at meteograms on your favorite weather website for ideas.\n",
    "\n",
    "Good luck!"
   ]
  }
 ],
 "metadata": {
  "kernelspec": {
   "display_name": "Python 3",
   "language": "python",
   "name": "python3"
  },
  "language_info": {
   "codemirror_mode": {
    "name": "ipython",
    "version": 3
   },
   "file_extension": ".py",
   "mimetype": "text/x-python",
   "name": "python",
   "nbconvert_exporter": "python",
   "pygments_lexer": "ipython3",
   "version": "3.9.2"
  }
 },
 "nbformat": 4,
 "nbformat_minor": 4
}
