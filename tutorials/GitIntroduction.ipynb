{
 "cells": [
  {
   "cell_type": "markdown",
   "id": "adjusted-capitol",
   "metadata": {},
   "source": [
    "# What is git?\n",
    "\n",
    "## Backups\n",
    "\n",
    "- Known-working version of a script\n",
    "- Version to try something that might work, or might not\n",
    "- Version trying a different thing that might work if the first doesn't\n",
    "\n",
    "## Collaborative editing\n",
    "\n",
    "If you change the start of a script, and a friend changes the end, git can make a version with both changes together."
   ]
  },
  {
   "cell_type": "markdown",
   "id": "threaded-pointer",
   "metadata": {},
   "source": [
    "# What is GitHub?\n",
    "\n",
    "- Cloud backups\n",
    "- Central repository\n",
    "- Tracker for problem reports and feature requests\n",
    "- Other people's code they think someone else would find useful"
   ]
  },
  {
   "cell_type": "markdown",
   "id": "raised-egypt",
   "metadata": {},
   "source": [
    "# Git commands\n",
    "\n",
    "## Creating a repository\n",
    "\n",
    "- git init\n",
    "- git clone /path/to/original\n",
    "- git clone username@server.com:/path/to/original\n",
    "- git clone https://github.com/username/original\n",
    "- git clone /path/to/original name_of_new_copy"
   ]
  },
  {
   "cell_type": "markdown",
   "id": "trying-british",
   "metadata": {},
   "source": [
    "## Adding changes to the history\n",
    "\n",
    "- git add path/to/file\n",
    "- git add path/to\n",
    "- git add .\n",
    "\n",
    "Then to actually save the changes for later:\n",
    "\n",
    "- git commit\n",
    "  - It will ask for a description: people usually do a short overview, then a blank line, then a longer description"
   ]
  },
  {
   "cell_type": "markdown",
   "id": "hawaiian-window",
   "metadata": {},
   "source": [
    "## Checking what needs to be added\n",
    "\n",
    "- git status\n",
    "  - Adding file names to `.gitignore` will remove them from this list"
   ]
  },
  {
   "cell_type": "markdown",
   "id": "fantastic-computer",
   "metadata": {},
   "source": [
    "## Marking different versions\n",
    "\n",
    "### Fixed versions that should not change\n",
    "\n",
    "- git tag\n",
    "\n",
    "### Versions that will change with new code\n",
    "- git checkout -b name_of_version\n",
    "  - First time\n",
    "- git checkout name_of_version\n",
    "  - Later times\n",
    "- git checkout main\n",
    "  - Main/original version"
   ]
  },
  {
   "cell_type": "markdown",
   "id": "alone-plate",
   "metadata": {},
   "source": [
    "## Interacting with other repositories\n",
    "\n",
    "- git remote add name /path/to/other\n",
    "  - You can use any of the variants from `git clone` above\n",
    "- git fetch\n",
    "- git merge\n",
    "- git push"
   ]
  },
  {
   "cell_type": "markdown",
   "id": "atomic-admission",
   "metadata": {},
   "source": [
    "## Interacting with GitHub\n",
    "\n",
    "Club main repository: https://github.com/karlwx/wxdatasci\n",
    "\n",
    "### Make a linked copy on GitHub\n",
    "\n",
    "See the \"Fork\" button in the top right?  Clicking that will make a copy of the repository that is entirely yours and linked to this copy.  The number next to the \"Fork\" button will show how many others have done this, and clicking on it will link to their copies.\n",
    "\n",
    "### Make a local copy\n",
    "\n",
    "There is a green \"Code\" button a few lines down and a bit closer to the center. Clicking on that will detail a few download options.  Each can be used with `git clone` or `git remote add`"
   ]
  },
  {
   "cell_type": "code",
   "execution_count": 1,
   "id": "antique-voltage",
   "metadata": {},
   "outputs": [],
   "source": [
    "%%bash\n",
    "rm -rf demo"
   ]
  },
  {
   "cell_type": "code",
   "execution_count": 2,
   "id": "regulated-jewel",
   "metadata": {},
   "outputs": [
    {
     "name": "stdout",
     "output_type": "stream",
     "text": [
      "Initialized empty Git repository in /home/jupyter-dfw5129/wxdatasci-dfw5129/tutorials/demo/.git/\n"
     ]
    },
    {
     "name": "stderr",
     "output_type": "stream",
     "text": [
      "Switched to a new branch 'main'\n",
      "\n",
      "*** Please tell me who you are.\n",
      "\n",
      "Run\n",
      "\n",
      "  git config --global user.email \"you@example.com\"\n",
      "  git config --global user.name \"Your Name\"\n",
      "\n",
      "to set your account's default identity.\n",
      "Omit --global to set the identity only in this repository.\n",
      "\n",
      "fatal: empty ident name (for <jupyter-dfw5129@js-171-185.jetstream-cloud.org>) not allowed\n"
     ]
    },
    {
     "ename": "CalledProcessError",
     "evalue": "Command 'b'mkdir demo\\ncd demo\\ngit init\\ngit checkout -b main\\ncat >script.py <<EOF\\nprint(\"Hello, World!\")\\nEOF\\ngit add script.py\\ngit commit -m \"Add hello world\"\\n'' returned non-zero exit status 128.",
     "output_type": "error",
     "traceback": [
      "\u001b[0;31m---------------------------------------------------------------------------\u001b[0m",
      "\u001b[0;31mCalledProcessError\u001b[0m                        Traceback (most recent call last)",
      "\u001b[0;32m<ipython-input-2-67eb9cf1caea>\u001b[0m in \u001b[0;36m<module>\u001b[0;34m\u001b[0m\n\u001b[0;32m----> 1\u001b[0;31m \u001b[0mget_ipython\u001b[0m\u001b[0;34m(\u001b[0m\u001b[0;34m)\u001b[0m\u001b[0;34m.\u001b[0m\u001b[0mrun_cell_magic\u001b[0m\u001b[0;34m(\u001b[0m\u001b[0;34m'bash'\u001b[0m\u001b[0;34m,\u001b[0m \u001b[0;34m''\u001b[0m\u001b[0;34m,\u001b[0m \u001b[0;34m'mkdir demo\\ncd demo\\ngit init\\ngit checkout -b main\\ncat >script.py <<EOF\\nprint(\"Hello, World!\")\\nEOF\\ngit add script.py\\ngit commit -m \"Add hello world\"\\n'\u001b[0m\u001b[0;34m)\u001b[0m\u001b[0;34m\u001b[0m\u001b[0;34m\u001b[0m\u001b[0m\n\u001b[0m",
      "\u001b[0;32m/opt/tljh/user/lib/python3.7/site-packages/IPython/core/interactiveshell.py\u001b[0m in \u001b[0;36mrun_cell_magic\u001b[0;34m(self, magic_name, line, cell)\u001b[0m\n\u001b[1;32m   2397\u001b[0m             \u001b[0;32mwith\u001b[0m \u001b[0mself\u001b[0m\u001b[0;34m.\u001b[0m\u001b[0mbuiltin_trap\u001b[0m\u001b[0;34m:\u001b[0m\u001b[0;34m\u001b[0m\u001b[0;34m\u001b[0m\u001b[0m\n\u001b[1;32m   2398\u001b[0m                 \u001b[0margs\u001b[0m \u001b[0;34m=\u001b[0m \u001b[0;34m(\u001b[0m\u001b[0mmagic_arg_s\u001b[0m\u001b[0;34m,\u001b[0m \u001b[0mcell\u001b[0m\u001b[0;34m)\u001b[0m\u001b[0;34m\u001b[0m\u001b[0;34m\u001b[0m\u001b[0m\n\u001b[0;32m-> 2399\u001b[0;31m                 \u001b[0mresult\u001b[0m \u001b[0;34m=\u001b[0m \u001b[0mfn\u001b[0m\u001b[0;34m(\u001b[0m\u001b[0;34m*\u001b[0m\u001b[0margs\u001b[0m\u001b[0;34m,\u001b[0m \u001b[0;34m**\u001b[0m\u001b[0mkwargs\u001b[0m\u001b[0;34m)\u001b[0m\u001b[0;34m\u001b[0m\u001b[0;34m\u001b[0m\u001b[0m\n\u001b[0m\u001b[1;32m   2400\u001b[0m             \u001b[0;32mreturn\u001b[0m \u001b[0mresult\u001b[0m\u001b[0;34m\u001b[0m\u001b[0;34m\u001b[0m\u001b[0m\n\u001b[1;32m   2401\u001b[0m \u001b[0;34m\u001b[0m\u001b[0m\n",
      "\u001b[0;32m/opt/tljh/user/lib/python3.7/site-packages/IPython/core/magics/script.py\u001b[0m in \u001b[0;36mnamed_script_magic\u001b[0;34m(line, cell)\u001b[0m\n\u001b[1;32m    140\u001b[0m             \u001b[0;32melse\u001b[0m\u001b[0;34m:\u001b[0m\u001b[0;34m\u001b[0m\u001b[0;34m\u001b[0m\u001b[0m\n\u001b[1;32m    141\u001b[0m                 \u001b[0mline\u001b[0m \u001b[0;34m=\u001b[0m \u001b[0mscript\u001b[0m\u001b[0;34m\u001b[0m\u001b[0;34m\u001b[0m\u001b[0m\n\u001b[0;32m--> 142\u001b[0;31m             \u001b[0;32mreturn\u001b[0m \u001b[0mself\u001b[0m\u001b[0;34m.\u001b[0m\u001b[0mshebang\u001b[0m\u001b[0;34m(\u001b[0m\u001b[0mline\u001b[0m\u001b[0;34m,\u001b[0m \u001b[0mcell\u001b[0m\u001b[0;34m)\u001b[0m\u001b[0;34m\u001b[0m\u001b[0;34m\u001b[0m\u001b[0m\n\u001b[0m\u001b[1;32m    143\u001b[0m \u001b[0;34m\u001b[0m\u001b[0m\n\u001b[1;32m    144\u001b[0m         \u001b[0;31m# write a basic docstring:\u001b[0m\u001b[0;34m\u001b[0m\u001b[0;34m\u001b[0m\u001b[0;34m\u001b[0m\u001b[0m\n",
      "\u001b[0;32m<decorator-gen-103>\u001b[0m in \u001b[0;36mshebang\u001b[0;34m(self, line, cell)\u001b[0m\n",
      "\u001b[0;32m/opt/tljh/user/lib/python3.7/site-packages/IPython/core/magic.py\u001b[0m in \u001b[0;36m<lambda>\u001b[0;34m(f, *a, **k)\u001b[0m\n\u001b[1;32m    185\u001b[0m     \u001b[0;31m# but it's overkill for just that one bit of state.\u001b[0m\u001b[0;34m\u001b[0m\u001b[0;34m\u001b[0m\u001b[0;34m\u001b[0m\u001b[0m\n\u001b[1;32m    186\u001b[0m     \u001b[0;32mdef\u001b[0m \u001b[0mmagic_deco\u001b[0m\u001b[0;34m(\u001b[0m\u001b[0marg\u001b[0m\u001b[0;34m)\u001b[0m\u001b[0;34m:\u001b[0m\u001b[0;34m\u001b[0m\u001b[0;34m\u001b[0m\u001b[0m\n\u001b[0;32m--> 187\u001b[0;31m         \u001b[0mcall\u001b[0m \u001b[0;34m=\u001b[0m \u001b[0;32mlambda\u001b[0m \u001b[0mf\u001b[0m\u001b[0;34m,\u001b[0m \u001b[0;34m*\u001b[0m\u001b[0ma\u001b[0m\u001b[0;34m,\u001b[0m \u001b[0;34m**\u001b[0m\u001b[0mk\u001b[0m\u001b[0;34m:\u001b[0m \u001b[0mf\u001b[0m\u001b[0;34m(\u001b[0m\u001b[0;34m*\u001b[0m\u001b[0ma\u001b[0m\u001b[0;34m,\u001b[0m \u001b[0;34m**\u001b[0m\u001b[0mk\u001b[0m\u001b[0;34m)\u001b[0m\u001b[0;34m\u001b[0m\u001b[0;34m\u001b[0m\u001b[0m\n\u001b[0m\u001b[1;32m    188\u001b[0m \u001b[0;34m\u001b[0m\u001b[0m\n\u001b[1;32m    189\u001b[0m         \u001b[0;32mif\u001b[0m \u001b[0mcallable\u001b[0m\u001b[0;34m(\u001b[0m\u001b[0marg\u001b[0m\u001b[0;34m)\u001b[0m\u001b[0;34m:\u001b[0m\u001b[0;34m\u001b[0m\u001b[0;34m\u001b[0m\u001b[0m\n",
      "\u001b[0;32m/opt/tljh/user/lib/python3.7/site-packages/IPython/core/magics/script.py\u001b[0m in \u001b[0;36mshebang\u001b[0;34m(self, line, cell)\u001b[0m\n\u001b[1;32m    243\u001b[0m             \u001b[0msys\u001b[0m\u001b[0;34m.\u001b[0m\u001b[0mstderr\u001b[0m\u001b[0;34m.\u001b[0m\u001b[0mflush\u001b[0m\u001b[0;34m(\u001b[0m\u001b[0;34m)\u001b[0m\u001b[0;34m\u001b[0m\u001b[0;34m\u001b[0m\u001b[0m\n\u001b[1;32m    244\u001b[0m         \u001b[0;32mif\u001b[0m \u001b[0margs\u001b[0m\u001b[0;34m.\u001b[0m\u001b[0mraise_error\u001b[0m \u001b[0;32mand\u001b[0m \u001b[0mp\u001b[0m\u001b[0;34m.\u001b[0m\u001b[0mreturncode\u001b[0m\u001b[0;34m!=\u001b[0m\u001b[0;36m0\u001b[0m\u001b[0;34m:\u001b[0m\u001b[0;34m\u001b[0m\u001b[0;34m\u001b[0m\u001b[0m\n\u001b[0;32m--> 245\u001b[0;31m             \u001b[0;32mraise\u001b[0m \u001b[0mCalledProcessError\u001b[0m\u001b[0;34m(\u001b[0m\u001b[0mp\u001b[0m\u001b[0;34m.\u001b[0m\u001b[0mreturncode\u001b[0m\u001b[0;34m,\u001b[0m \u001b[0mcell\u001b[0m\u001b[0;34m,\u001b[0m \u001b[0moutput\u001b[0m\u001b[0;34m=\u001b[0m\u001b[0mout\u001b[0m\u001b[0;34m,\u001b[0m \u001b[0mstderr\u001b[0m\u001b[0;34m=\u001b[0m\u001b[0merr\u001b[0m\u001b[0;34m)\u001b[0m\u001b[0;34m\u001b[0m\u001b[0;34m\u001b[0m\u001b[0m\n\u001b[0m\u001b[1;32m    246\u001b[0m \u001b[0;34m\u001b[0m\u001b[0m\n\u001b[1;32m    247\u001b[0m     \u001b[0;32mdef\u001b[0m \u001b[0m_run_script\u001b[0m\u001b[0;34m(\u001b[0m\u001b[0mself\u001b[0m\u001b[0;34m,\u001b[0m \u001b[0mp\u001b[0m\u001b[0;34m,\u001b[0m \u001b[0mcell\u001b[0m\u001b[0;34m,\u001b[0m \u001b[0mto_close\u001b[0m\u001b[0;34m)\u001b[0m\u001b[0;34m:\u001b[0m\u001b[0;34m\u001b[0m\u001b[0;34m\u001b[0m\u001b[0m\n",
      "\u001b[0;31mCalledProcessError\u001b[0m: Command 'b'mkdir demo\\ncd demo\\ngit init\\ngit checkout -b main\\ncat >script.py <<EOF\\nprint(\"Hello, World!\")\\nEOF\\ngit add script.py\\ngit commit -m \"Add hello world\"\\n'' returned non-zero exit status 128."
     ]
    }
   ],
   "source": [
    "%%bash\n",
    "mkdir demo\n",
    "cd demo\n",
    "git init\n",
    "git checkout -b main\n",
    "cat >script.py <<EOF\n",
    "print(\"Hello, World!\")\n",
    "EOF\n",
    "git add script.py\n",
    "git commit -m \"Add hello world\""
   ]
  },
  {
   "cell_type": "code",
   "execution_count": null,
   "id": "empty-friendly",
   "metadata": {},
   "outputs": [],
   "source": [
    "%%bash\n",
    "cd demo\n",
    "git config user.name Me\n",
    "git config user.email me@psu.edu\n",
    "git commit -m \"Add hello world\""
   ]
  },
  {
   "cell_type": "code",
   "execution_count": null,
   "id": "hawaiian-documentary",
   "metadata": {},
   "outputs": [],
   "source": [
    "%%bash\n",
    "cd demo\n",
    "git checkout -b experimental\n",
    "cat >script.py <<EOF\n",
    "print(\"Hello, world!\")\n",
    "print 1/0\n",
    "EOF\n",
    "git commit -a -m \"Add division test\""
   ]
  },
  {
   "cell_type": "code",
   "execution_count": null,
   "id": "together-texas",
   "metadata": {},
   "outputs": [],
   "source": [
    "%%bash\n",
    "cd demo\n",
    "cat >script.py <<EOF\n",
    "import sys\n",
    "print(\"Hello,\", sys.argv[1])\n",
    "print 1/0\n",
    "EOF\n",
    "git commit -a -m \"Only say hello to given name\""
   ]
  },
  {
   "cell_type": "code",
   "execution_count": null,
   "id": "indonesian-validation",
   "metadata": {},
   "outputs": [],
   "source": [
    "%%bash\n",
    "cd demo\n",
    "git bisect start\n",
    "git bisect good HEAD~2\n",
    "git bisect bad HEAD\n",
    "git bisect run python script.py"
   ]
  },
  {
   "cell_type": "code",
   "execution_count": null,
   "id": "infrared-array",
   "metadata": {},
   "outputs": [],
   "source": [
    "c"
   ]
  }
 ],
 "metadata": {
  "kernelspec": {
   "display_name": "Python 3",
   "language": "python",
   "name": "python3"
  },
  "language_info": {
   "codemirror_mode": {
    "name": "ipython",
    "version": 3
   },
   "file_extension": ".py",
   "mimetype": "text/x-python",
   "name": "python",
   "nbconvert_exporter": "python",
   "pygments_lexer": "ipython3",
   "version": "3.7.9"
  }
 },
 "nbformat": 4,
 "nbformat_minor": 5
}
