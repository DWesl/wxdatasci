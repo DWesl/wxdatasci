{
 "cells": [
  {
   "cell_type": "markdown",
   "id": "551d2ea6",
   "metadata": {},
   "source": [
    "While I don't use NumPy arrays directly so much anymore, they underly the types I do use, so the concepts are probably useful to understand.\n",
    "\n",
    "Python provides types for collections of things, namely `list`, `set`, and `tuple`.  However, when dealing with large amounts of data, these types are somewhat memory-hungry and operations on them are inclined to be slow.\n",
    "\n",
    "Numpy arrays, in contrast to the python collection types, must have all data of the same type, but store the data more efficiently and implement many operations as loops in C."
   ]
  },
  {
   "cell_type": "markdown",
   "id": "e97ed6c0",
   "metadata": {},
   "source": [
    "## NumPy arrays\n",
    "\n",
    "`np.array` takes its argument and converts it to a NumPy N-D array."
   ]
  },
  {
   "cell_type": "code",
   "execution_count": 1,
   "id": "f9e53256",
   "metadata": {},
   "outputs": [
    {
     "data": {
      "text/plain": [
       "array([0, 1, 2, 3, 4, 5, 6, 7, 8, 9])"
      ]
     },
     "execution_count": 1,
     "metadata": {},
     "output_type": "execute_result"
    }
   ],
   "source": [
    "import numpy as np\n",
    "\n",
    "np.array(range(10))"
   ]
  },
  {
   "cell_type": "code",
   "execution_count": 2,
   "id": "00c5512b",
   "metadata": {},
   "outputs": [
    {
     "data": {
      "text/plain": [
       "array([[1, 0],\n",
       "       [0, 1]])"
      ]
     },
     "execution_count": 2,
     "metadata": {},
     "output_type": "execute_result"
    }
   ],
   "source": [
    "np.array([[1, 0], [0, 1]])"
   ]
  },
  {
   "cell_type": "markdown",
   "id": "fe3811c4",
   "metadata": {},
   "source": [
    "`np.arange` and `np.linspace` are slightly different approaches to creating evenly-spaced arrays, and `np.geomspace` is a similar function for a different definition of evenly-spaced."
   ]
  },
  {
   "cell_type": "code",
   "execution_count": 3,
   "id": "e648c465",
   "metadata": {},
   "outputs": [
    {
     "data": {
      "text/plain": [
       "array([1. , 1.1, 1.2, 1.3, 1.4, 1.5, 1.6, 1.7, 1.8, 1.9, 2. , 2.1, 2.2,\n",
       "       2.3, 2.4, 2.5, 2.6, 2.7, 2.8, 2.9])"
      ]
     },
     "execution_count": 3,
     "metadata": {},
     "output_type": "execute_result"
    }
   ],
   "source": [
    "np.arange(1, 3, 0.1)"
   ]
  },
  {
   "cell_type": "code",
   "execution_count": 4,
   "id": "303beca0",
   "metadata": {},
   "outputs": [
    {
     "data": {
      "text/plain": [
       "array([1.        , 1.22222222, 1.44444444, 1.66666667, 1.88888889,\n",
       "       2.11111111, 2.33333333, 2.55555556, 2.77777778, 3.        ])"
      ]
     },
     "execution_count": 4,
     "metadata": {},
     "output_type": "execute_result"
    }
   ],
   "source": [
    "np.linspace(1, 3, 10)"
   ]
  },
  {
   "cell_type": "code",
   "execution_count": 5,
   "id": "2a817999",
   "metadata": {},
   "outputs": [
    {
     "data": {
      "text/plain": [
       "array([  1.,  10., 100.])"
      ]
     },
     "execution_count": 5,
     "metadata": {},
     "output_type": "execute_result"
    }
   ],
   "source": [
    "np.geomspace(1, 100, 3)"
   ]
  },
  {
   "cell_type": "markdown",
   "id": "30f73b72",
   "metadata": {},
   "source": [
    "You can do most arithmetic on numeric arrays, and there are methods to find the sum, mean, and standard deviation."
   ]
  },
  {
   "cell_type": "code",
   "execution_count": 6,
   "id": "efdc7dfe",
   "metadata": {},
   "outputs": [
    {
     "data": {
      "text/plain": [
       "array([10, 10, 10, 10, 10, 10, 10, 10, 10, 10])"
      ]
     },
     "execution_count": 6,
     "metadata": {},
     "output_type": "execute_result"
    }
   ],
   "source": [
    "a = np.arange(10)\n",
    "b = np.arange(10, 0, -1)\n",
    "\n",
    "a + b"
   ]
  },
  {
   "cell_type": "code",
   "execution_count": 7,
   "id": "429b2583",
   "metadata": {},
   "outputs": [
    {
     "data": {
      "text/plain": [
       "array([-10,  -8,  -6,  -4,  -2,   0,   2,   4,   6,   8])"
      ]
     },
     "execution_count": 7,
     "metadata": {},
     "output_type": "execute_result"
    }
   ],
   "source": [
    "a - b"
   ]
  },
  {
   "cell_type": "code",
   "execution_count": 8,
   "id": "d3e82e70",
   "metadata": {},
   "outputs": [
    {
     "data": {
      "text/plain": [
       "array([ 0,  9, 16, 21, 24, 25, 24, 21, 16,  9])"
      ]
     },
     "execution_count": 8,
     "metadata": {},
     "output_type": "execute_result"
    }
   ],
   "source": [
    "a * b"
   ]
  },
  {
   "cell_type": "code",
   "execution_count": 9,
   "id": "3a709cdc",
   "metadata": {},
   "outputs": [
    {
     "data": {
      "text/plain": [
       "array([0.        , 0.11111111, 0.25      , 0.42857143, 0.66666667,\n",
       "       1.        , 1.5       , 2.33333333, 4.        , 9.        ])"
      ]
     },
     "execution_count": 9,
     "metadata": {},
     "output_type": "execute_result"
    }
   ],
   "source": [
    "a / b"
   ]
  },
  {
   "cell_type": "code",
   "execution_count": 10,
   "id": "59504e0b",
   "metadata": {},
   "outputs": [
    {
     "data": {
      "text/plain": [
       "array([0, 0, 0, 0, 0, 1, 1, 2, 4, 9])"
      ]
     },
     "execution_count": 10,
     "metadata": {},
     "output_type": "execute_result"
    }
   ],
   "source": [
    "# Integer division, quotient\n",
    "a // b"
   ]
  },
  {
   "cell_type": "code",
   "execution_count": 11,
   "id": "20878199",
   "metadata": {},
   "outputs": [
    {
     "data": {
      "text/plain": [
       "array([0, 1, 2, 3, 4, 0, 2, 1, 0, 0])"
      ]
     },
     "execution_count": 11,
     "metadata": {},
     "output_type": "execute_result"
    }
   ],
   "source": [
    "# Integer division, remainder\n",
    "a % b"
   ]
  },
  {
   "cell_type": "code",
   "execution_count": 12,
   "id": "6405802e",
   "metadata": {},
   "outputs": [
    {
     "data": {
      "text/plain": [
       "array([0, 1, 2, 3, 4, 5, 6, 7, 8, 9])"
      ]
     },
     "execution_count": 12,
     "metadata": {},
     "output_type": "execute_result"
    }
   ],
   "source": [
    "(a // b) * b + a % b"
   ]
  },
  {
   "cell_type": "code",
   "execution_count": 13,
   "id": "366e2d2b",
   "metadata": {},
   "outputs": [
    {
     "data": {
      "text/plain": [
       "array([ 0,  1,  4,  9, 16, 25, 36, 49, 64, 81])"
      ]
     },
     "execution_count": 13,
     "metadata": {},
     "output_type": "execute_result"
    }
   ],
   "source": [
    "a ** 2"
   ]
  },
  {
   "cell_type": "code",
   "execution_count": 14,
   "id": "8a71c7dc",
   "metadata": {},
   "outputs": [
    {
     "data": {
      "text/plain": [
       "45"
      ]
     },
     "execution_count": 14,
     "metadata": {},
     "output_type": "execute_result"
    }
   ],
   "source": [
    "a.sum()"
   ]
  },
  {
   "cell_type": "code",
   "execution_count": 15,
   "id": "7db6152d",
   "metadata": {},
   "outputs": [
    {
     "data": {
      "text/plain": [
       "4.5"
      ]
     },
     "execution_count": 15,
     "metadata": {},
     "output_type": "execute_result"
    }
   ],
   "source": [
    "a.mean()"
   ]
  },
  {
   "cell_type": "code",
   "execution_count": 16,
   "id": "211cc4e4",
   "metadata": {},
   "outputs": [
    {
     "data": {
      "text/plain": [
       "2.8722813232690143"
      ]
     },
     "execution_count": 16,
     "metadata": {},
     "output_type": "execute_result"
    }
   ],
   "source": [
    "a.std()"
   ]
  },
  {
   "cell_type": "code",
   "execution_count": 17,
   "id": "8a410c48",
   "metadata": {},
   "outputs": [
    {
     "data": {
      "text/plain": [
       "4.5"
      ]
     },
     "execution_count": 17,
     "metadata": {},
     "output_type": "execute_result"
    }
   ],
   "source": [
    "np.median(a)"
   ]
  },
  {
   "cell_type": "markdown",
   "id": "3ab25664",
   "metadata": {},
   "source": [
    "NumPy arrays can perform some operations faster than python builtins can, once the arrays are big enough."
   ]
  },
  {
   "cell_type": "code",
   "execution_count": 18,
   "id": "338223bb",
   "metadata": {},
   "outputs": [
    {
     "name": "stdout",
     "output_type": "stream",
     "text": [
      "12.6 µs ± 1.21 µs per loop (mean ± std. dev. of 7 runs, 100000 loops each)\n"
     ]
    }
   ],
   "source": [
    "%timeit np.sum(np.arange(1000))"
   ]
  },
  {
   "cell_type": "code",
   "execution_count": 19,
   "id": "f6a69408",
   "metadata": {},
   "outputs": [
    {
     "name": "stdout",
     "output_type": "stream",
     "text": [
      "23.4 µs ± 1.03 µs per loop (mean ± std. dev. of 7 runs, 10000 loops each)\n"
     ]
    }
   ],
   "source": [
    "%timeit sum(range(1000))"
   ]
  },
  {
   "cell_type": "markdown",
   "id": "0e04e1b3",
   "metadata": {},
   "source": [
    "It is also possible to perform sums over only some axes of an array:"
   ]
  },
  {
   "cell_type": "code",
   "execution_count": 20,
   "id": "5b5fc0de",
   "metadata": {},
   "outputs": [
    {
     "data": {
      "text/plain": [
       "array([[0, 1, 2],\n",
       "       [3, 4, 5],\n",
       "       [6, 7, 8]])"
      ]
     },
     "execution_count": 20,
     "metadata": {},
     "output_type": "execute_result"
    }
   ],
   "source": [
    "a = np.arange(9).reshape(3, 3)\n",
    "a"
   ]
  },
  {
   "cell_type": "code",
   "execution_count": 21,
   "id": "97d2b648",
   "metadata": {},
   "outputs": [
    {
     "data": {
      "text/plain": [
       "array([ 3, 12, 21])"
      ]
     },
     "execution_count": 21,
     "metadata": {},
     "output_type": "execute_result"
    }
   ],
   "source": [
    "# Sum of each row across columns\n",
    "a.sum(1)"
   ]
  },
  {
   "cell_type": "code",
   "execution_count": 22,
   "id": "7540c643",
   "metadata": {},
   "outputs": [
    {
     "data": {
      "text/plain": [
       "array([ 9, 12, 15])"
      ]
     },
     "execution_count": 22,
     "metadata": {},
     "output_type": "execute_result"
    }
   ],
   "source": [
    "# Sum of each column down rows\n",
    "a.sum(0)"
   ]
  },
  {
   "cell_type": "code",
   "execution_count": 23,
   "id": "68ead583",
   "metadata": {},
   "outputs": [
    {
     "data": {
      "text/plain": [
       "36"
      ]
     },
     "execution_count": 23,
     "metadata": {},
     "output_type": "execute_result"
    }
   ],
   "source": [
    "# Sum of the whole array together\n",
    "a.sum()"
   ]
  },
  {
   "cell_type": "markdown",
   "id": "cb6a8abb",
   "metadata": {},
   "source": [
    "It is also possible to pull out every other row, or every other column, or a single element."
   ]
  },
  {
   "cell_type": "code",
   "execution_count": 24,
   "id": "d9863bb9",
   "metadata": {},
   "outputs": [
    {
     "data": {
      "text/plain": [
       "array([[0, 2],\n",
       "       [6, 8]])"
      ]
     },
     "execution_count": 24,
     "metadata": {},
     "output_type": "execute_result"
    }
   ],
   "source": [
    "a[::2, ::2]"
   ]
  },
  {
   "cell_type": "code",
   "execution_count": 25,
   "id": "5a3c8e3c",
   "metadata": {},
   "outputs": [
    {
     "data": {
      "text/plain": [
       "array([[0, 1, 2],\n",
       "       [6, 7, 8]])"
      ]
     },
     "execution_count": 25,
     "metadata": {},
     "output_type": "execute_result"
    }
   ],
   "source": [
    "a[::2]"
   ]
  },
  {
   "cell_type": "code",
   "execution_count": 26,
   "id": "789f51cc",
   "metadata": {},
   "outputs": [
    {
     "data": {
      "text/plain": [
       "array([[0, 2],\n",
       "       [3, 5],\n",
       "       [6, 8]])"
      ]
     },
     "execution_count": 26,
     "metadata": {},
     "output_type": "execute_result"
    }
   ],
   "source": [
    "a[:, ::2]"
   ]
  },
  {
   "cell_type": "code",
   "execution_count": 27,
   "id": "00cb9af8",
   "metadata": {},
   "outputs": [
    {
     "data": {
      "text/plain": [
       "4"
      ]
     },
     "execution_count": 27,
     "metadata": {},
     "output_type": "execute_result"
    }
   ],
   "source": [
    "a[1, 1]"
   ]
  },
  {
   "cell_type": "markdown",
   "id": "cae40d2b",
   "metadata": {},
   "source": [
    "## NumPy dtypes\n",
    "\n",
    "There are five broad classes of data that NumPy arrays can work with efficiently: boolean (True/False), integers, real numbers, strings, and time-related data.  Most of these have a few variants based on how much memory each element of the array takes up.\n",
    "\n",
    "### Boolean\n",
    "\n",
    "There are only two boolean values, `True` and `False`.  This data type is always stored as one byte per array element.\n",
    "\n",
    "The NumPy dtype for this is `numpy.bool_`\n",
    "\n",
    "### Integers\n",
    "\n",
    "You will generally want to work with signed integer types, such as `numpy.int8`, `numpy.int16`, `numpy.int32`, and `numpy.int64`.  These types take up one, two, four, and eight bytes per element.  You can find what numbers each can represent with `numpy.iinfo`."
   ]
  },
  {
   "cell_type": "code",
   "execution_count": 28,
   "id": "61394022",
   "metadata": {},
   "outputs": [
    {
     "data": {
      "text/plain": [
       "iinfo(min=-128, max=127, dtype=int8)"
      ]
     },
     "execution_count": 28,
     "metadata": {},
     "output_type": "execute_result"
    }
   ],
   "source": [
    "import numpy as np\n",
    "\n",
    "np.iinfo(np.int8)"
   ]
  },
  {
   "cell_type": "code",
   "execution_count": 29,
   "id": "fe715d50",
   "metadata": {},
   "outputs": [
    {
     "data": {
      "text/plain": [
       "iinfo(min=-2147483648, max=2147483647, dtype=int32)"
      ]
     },
     "execution_count": 29,
     "metadata": {},
     "output_type": "execute_result"
    }
   ],
   "source": [
    "np.iinfo(np.int32)"
   ]
  },
  {
   "cell_type": "markdown",
   "id": "1fced7a7",
   "metadata": {},
   "source": [
    "If you know exactly what integers will be going into the array, using the smallest type that can represent all of them will save a bit of memory.  If not, using `np.int64` will hold off surprises due to integer overflow for as long as possible."
   ]
  },
  {
   "cell_type": "code",
   "execution_count": 30,
   "id": "dd9d785b",
   "metadata": {},
   "outputs": [
    {
     "data": {
      "text/plain": [
       "array([-128], dtype=int8)"
      ]
     },
     "execution_count": 30,
     "metadata": {},
     "output_type": "execute_result"
    }
   ],
   "source": [
    "np.array([np.iinfo(np.int8).max], dtype=np.int8) + 1"
   ]
  },
  {
   "cell_type": "markdown",
   "id": "31ad8f69",
   "metadata": {},
   "source": [
    "#### Unsigned integers\n",
    "\n",
    "Unsigned integers are usually only recommended for use if you are doing bitwise operations on the binary representation of the integers, and don't care so much for the interpretation as integers.  The dtypes are `np.uint8`, `np.uint16`, `np.uint32`, and `np.uint64`"
   ]
  },
  {
   "cell_type": "markdown",
   "id": "0ffe428b",
   "metadata": {},
   "source": [
    "### Real numbers\n",
    "\n",
    "Real numbers are represented as floating point values, either single-precision (32-bit), double precision (64-bit), long double precision (96- or 128-bit), or sometimes as half-precision (16-bit).  You can find characteristics of the types with `np.finfo`"
   ]
  },
  {
   "cell_type": "code",
   "execution_count": 31,
   "id": "40a494d1",
   "metadata": {},
   "outputs": [
    {
     "data": {
      "text/plain": [
       "finfo(resolution=1e-06, min=-3.4028235e+38, max=3.4028235e+38, dtype=float32)"
      ]
     },
     "execution_count": 31,
     "metadata": {},
     "output_type": "execute_result"
    }
   ],
   "source": [
    "np.finfo(np.float32)"
   ]
  },
  {
   "cell_type": "markdown",
   "id": "e09697b1",
   "metadata": {},
   "source": [
    "Resolution is a rough estimate of how many digits the type keeps track of during arithmetic.  The minimum and maximum are the largest and smallest representable numbers; anything larger than those values will be represented by infinity, as `-np.inf` or `np.inf`."
   ]
  },
  {
   "cell_type": "code",
   "execution_count": 32,
   "id": "24306b9a",
   "metadata": {},
   "outputs": [
    {
     "data": {
      "text/plain": [
       "1.1754944e-38"
      ]
     },
     "execution_count": 32,
     "metadata": {},
     "output_type": "execute_result"
    }
   ],
   "source": [
    "np.finfo(np.float32).tiny"
   ]
  },
  {
   "cell_type": "markdown",
   "id": "b26f992b",
   "metadata": {},
   "source": [
    "Tiny is the smallest positive number the type can tell apart from zero.\n",
    "\n",
    "Floating-point numbers only keep so many digits around when doing arithmetic, which means results will not be exact."
   ]
  },
  {
   "cell_type": "code",
   "execution_count": 33,
   "id": "4d20f874",
   "metadata": {},
   "outputs": [
    {
     "data": {
      "text/plain": [
       "5.551115123125783e-17"
      ]
     },
     "execution_count": 33,
     "metadata": {},
     "output_type": "execute_result"
    }
   ],
   "source": [
    "0.1 + 0.1 + 0.1 - 0.3"
   ]
  },
  {
   "cell_type": "code",
   "execution_count": 34,
   "id": "f827bf05",
   "metadata": {},
   "outputs": [
    {
     "data": {
      "text/plain": [
       "1e-15"
      ]
     },
     "execution_count": 34,
     "metadata": {},
     "output_type": "execute_result"
    }
   ],
   "source": [
    "np.finfo(np.double).resolution"
   ]
  },
  {
   "cell_type": "markdown",
   "id": "1cd41e7e",
   "metadata": {},
   "source": [
    "Python's built-in `float` type corresponds to `np.double`, which is usually `np.float64`.\n",
    "\n",
    "Generally people select which type to use by considering the uncertainties in the numbers: if you are only sure about the first two or three digits of a number, it often doesn't make sense to keep track of fifteen digits.  The big exception is when adding two sequences of numbers to produce two numbers of similar magnitude, which you then subtract."
   ]
  },
  {
   "cell_type": "code",
   "execution_count": 35,
   "id": "65fa229a",
   "metadata": {},
   "outputs": [
    {
     "data": {
      "text/plain": [
       "0.001"
      ]
     },
     "execution_count": 35,
     "metadata": {},
     "output_type": "execute_result"
    }
   ],
   "source": [
    "np.finfo(np.float16).resolution"
   ]
  },
  {
   "cell_type": "code",
   "execution_count": 36,
   "id": "0af6acc0",
   "metadata": {},
   "outputs": [
    {
     "data": {
      "text/plain": [
       "-988.0"
      ]
     },
     "execution_count": 36,
     "metadata": {},
     "output_type": "execute_result"
    }
   ],
   "source": [
    "a = np.arange(1, 10, 0.01, dtype=np.float16)\n",
    "b = np.arange(10, 1, -0.01, dtype=np.float16)\n",
    "\n",
    "a.sum() - b.sum()"
   ]
  },
  {
   "cell_type": "code",
   "execution_count": 37,
   "id": "d1713ed0",
   "metadata": {},
   "outputs": [
    {
     "data": {
      "text/plain": [
       "4852.0"
      ]
     },
     "execution_count": 37,
     "metadata": {},
     "output_type": "execute_result"
    }
   ],
   "source": [
    "a.sum()"
   ]
  },
  {
   "cell_type": "code",
   "execution_count": 38,
   "id": "e4934e35",
   "metadata": {},
   "outputs": [
    {
     "data": {
      "text/plain": [
       "4945.500000000003593"
      ]
     },
     "execution_count": 38,
     "metadata": {},
     "output_type": "execute_result"
    }
   ],
   "source": [
    "np.arange(1, 10, 0.01, dtype=np.longdouble).sum()"
   ]
  },
  {
   "cell_type": "code",
   "execution_count": 39,
   "id": "1473cbaf",
   "metadata": {},
   "outputs": [
    {
     "data": {
      "text/plain": [
       "5840.0"
      ]
     },
     "execution_count": 39,
     "metadata": {},
     "output_type": "execute_result"
    }
   ],
   "source": [
    "b.sum()"
   ]
  },
  {
   "cell_type": "code",
   "execution_count": 40,
   "id": "6107d76e",
   "metadata": {},
   "outputs": [
    {
     "data": {
      "text/plain": [
       "4954.500000000086235"
      ]
     },
     "execution_count": 40,
     "metadata": {},
     "output_type": "execute_result"
    }
   ],
   "source": [
    "np.arange(10, 1, -0.01, dtype=np.longdouble).sum()"
   ]
  },
  {
   "cell_type": "markdown",
   "id": "d8aa9b92",
   "metadata": {},
   "source": [
    "Each addition in the sum keeps around three digits of precision, but there are around nine hundred additions, so the roundoff error in each addition adds up, leaving slightly under one digit of precision by the end, more if doing the sum in ascending order.  \n",
    "\n",
    "For `np.float32`, eating three digits of precision from the five it keeps leaves around two digits of precision.  Since meteorological uncertainties are often around five to ten percent, this is usually plenty, but if you are doing a larger sum or are very sure of the numbers you are adding, `np.float64` will give you around fifteen digits of precision.\n",
    "\n",
    "There are a few tricks to make addition more accurate.  Doing the addition in ascending order of magnitude was mentioned earlier, the second is to center the numbers around zero:"
   ]
  },
  {
   "cell_type": "code",
   "execution_count": 41,
   "id": "61a4cffd",
   "metadata": {},
   "outputs": [
    {
     "data": {
      "text/plain": [
       "4850.68359375"
      ]
     },
     "execution_count": 41,
     "metadata": {},
     "output_type": "execute_result"
    }
   ],
   "source": [
    "(a - a.mean()).sum() + a.mean() * len(a)"
   ]
  },
  {
   "cell_type": "code",
   "execution_count": 42,
   "id": "7f082e61",
   "metadata": {},
   "outputs": [
    {
     "data": {
      "text/plain": [
       "4850.75"
      ]
     },
     "execution_count": 42,
     "metadata": {},
     "output_type": "execute_result"
    }
   ],
   "source": [
    "(a - 5).sum() + 5 * len(a)"
   ]
  },
  {
   "cell_type": "markdown",
   "id": "7e0d7954",
   "metadata": {},
   "source": [
    "Subtracting a number close to the mean of the array allows more of the precision in the sum to go to adding up the differences from that number.  The effect is more pronounced if the numbers in question are, say, temperatures in the range 250 to 310 Kelvin, where two digits go to saying the number is in the normal range for temperatures in Earth's atmosphere."
   ]
  },
  {
   "cell_type": "markdown",
   "id": "cfdc57b6",
   "metadata": {},
   "source": [
    "### String data\n",
    "\n",
    "NumPy can represent string data, but only provides some of python's string-processing functionality."
   ]
  },
  {
   "cell_type": "code",
   "execution_count": 43,
   "id": "760aac45",
   "metadata": {},
   "outputs": [
    {
     "data": {
      "text/plain": [
       "array(['a', 'b', 'c', 'd', 'e', 'f', 'g', 'h', 'i', 'j', 'k', 'l', 'm',\n",
       "       'n', 'o', 'p', 'q', 'r', 's', 't', 'u', 'v', 'w', 'x', 'y', 'z'],\n",
       "      dtype='<U1')"
      ]
     },
     "execution_count": 43,
     "metadata": {},
     "output_type": "execute_result"
    }
   ],
   "source": [
    "import string\n",
    "\n",
    "alpha = np.array(list(string.ascii_lowercase))\n",
    "alpha"
   ]
  },
  {
   "cell_type": "code",
   "execution_count": 44,
   "id": "de66da0b",
   "metadata": {},
   "outputs": [
    {
     "data": {
      "text/plain": [
       "array(['A', 'B', 'C', 'D', 'E', 'F', 'G', 'H', 'I', 'J', 'K', 'L', 'M',\n",
       "       'N', 'O', 'P', 'Q', 'R', 'S', 'T', 'U', 'V', 'W', 'X', 'Y', 'Z'],\n",
       "      dtype='<U1')"
      ]
     },
     "execution_count": 44,
     "metadata": {},
     "output_type": "execute_result"
    }
   ],
   "source": [
    "np.char.upper(alpha)"
   ]
  },
  {
   "cell_type": "code",
   "execution_count": 45,
   "id": "8fec3e38",
   "metadata": {},
   "outputs": [
    {
     "data": {
      "text/plain": [
       "array([' a ', ' b ', ' c ', ' d ', ' e ', ' f ', ' g ', ' h ', ' i ',\n",
       "       ' j ', ' k ', ' l ', ' m ', ' n ', ' o ', ' p ', ' q ', ' r ',\n",
       "       ' s ', ' t ', ' u ', ' v ', ' w ', ' x ', ' y ', ' z '],\n",
       "      dtype='<U3')"
      ]
     },
     "execution_count": 45,
     "metadata": {},
     "output_type": "execute_result"
    }
   ],
   "source": [
    "np.char.center(alpha, 3)"
   ]
  },
  {
   "cell_type": "code",
   "execution_count": 46,
   "id": "a7e296ee",
   "metadata": {},
   "outputs": [
    {
     "data": {
      "text/plain": [
       "array(['az', 'by', 'cx', 'dw', 'ev', 'fu', 'gt', 'hs', 'ir', 'jq', 'kp',\n",
       "       'lo', 'mn', 'nm', 'ol', 'pk', 'qj', 'ri', 'sh', 'tg', 'uf', 've',\n",
       "       'wd', 'xc', 'yb', 'za'], dtype='<U2')"
      ]
     },
     "execution_count": 46,
     "metadata": {},
     "output_type": "execute_result"
    }
   ],
   "source": [
    "string2 = np.char.add(alpha, alpha[::-1])\n",
    "string2"
   ]
  },
  {
   "cell_type": "code",
   "execution_count": 47,
   "id": "4f15fe3e",
   "metadata": {},
   "outputs": [
    {
     "data": {
      "text/plain": [
       "array([0, 0, 0, 0, 0, 0, 0, 0, 0, 0, 0, 0, 1, 1, 0, 0, 0, 0, 0, 0, 0, 0,\n",
       "       0, 0, 0, 0])"
      ]
     },
     "execution_count": 47,
     "metadata": {},
     "output_type": "execute_result"
    }
   ],
   "source": [
    "np.char.count(string2, \"m\")"
   ]
  },
  {
   "cell_type": "code",
   "execution_count": null,
   "id": "e70748c3",
   "metadata": {},
   "outputs": [],
   "source": []
  }
 ],
 "metadata": {
  "kernelspec": {
   "display_name": "Python 3",
   "language": "python",
   "name": "python3"
  },
  "language_info": {
   "codemirror_mode": {
    "name": "ipython",
    "version": 3
   },
   "file_extension": ".py",
   "mimetype": "text/x-python",
   "name": "python",
   "nbconvert_exporter": "python",
   "pygments_lexer": "ipython3",
   "version": "3.8.9"
  }
 },
 "nbformat": 4,
 "nbformat_minor": 5
}
